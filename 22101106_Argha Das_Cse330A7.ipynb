{
  "cells": [
    {
      "cell_type": "markdown",
      "metadata": {
        "id": "wwuJllZf2gbd"
      },
      "source": [
        "Make sure you remove `raise NotImplementedError()` and fill in any place that says `# YOUR CODE HERE`, as well as your `NAME`, `ID`, and `LAB_SECTION` below:"
      ]
    },
    {
      "cell_type": "code",
      "execution_count": null,
      "metadata": {
        "id": "yRMG6NyDgxwa"
      },
      "outputs": [],
      "source": [
        "NAME = \"Argha Das\"\n",
        "ID = \"22101106\"\n",
        "SECTION = \"11\""
      ]
    },
    {
      "cell_type": "markdown",
      "metadata": {
        "id": "cbYDwRgN3vcq"
      },
      "source": [
        "# Part 1: Solving a linear system using inverse matrix\n",
        "\n",
        "We have a linear system\n",
        "\n",
        "\\begin{align}\n",
        "&a_{11} x_1 + a_{12} x_2 +  \\cdots  + a_{1n} x_n = b_1\\\\\n",
        "&a_{21} x_1 + a_{22} x_2 +  \\cdots + a_{2n} x_n = b_2\\\\\n",
        "&\\cdots\\\\\n",
        "&a_{n1} x_1 + a_{n2} x_2 +  \\cdots + a_{nn} x_n = b_n\\\\\n",
        "\\end{align}\n",
        "\n",
        "It is convenient to express this system in the\n",
        "matrix form\n",
        "\n",
        "\\begin{align}\n",
        "Ax = b\n",
        "\\end{align}\n",
        "\n",
        "where $A$ is an $n \\times n$ square matrix with elements $a_{ij}$, and $x$, $b$ are $n \\times 1$ vectors.\n",
        "\n",
        "We have to keep in mind that this system will have a unique solution iff $A$ is non-singular, given by $x = A^{-1}b.$"
      ]
    },
    {
      "cell_type": "code",
      "execution_count": 3,
      "metadata": {
        "id": "aQX8PNoJ39Ak"
      },
      "outputs": [],
      "source": [
        "import matplotlib.pyplot as plt\n",
        "import numpy as np\n",
        "import sys"
      ]
    },
    {
      "cell_type": "code",
      "execution_count": null,
      "metadata": {
        "id": "liidjMKS-DBM"
      },
      "outputs": [],
      "source": [
        "def get_result_by_inverse_matrix(A, b):\n",
        "  # A and b are numpy arrays\n",
        "\n",
        "  # first check if the A is non-singular matrix. We know that the determinant of\n",
        "  # a non-singular matrix will be non-zero\n",
        "  if np.linalg.det(A)!=0:\n",
        "    Inv=np.linalg.inv(A)\n",
        "  else :\n",
        "    print( \"MAtxir is not inverseble \")\n",
        "  x=np.dot(Inv,b)\n",
        "\n",
        "  # YOUR CODE HERE\n",
        "  # raise NotImplementedError()\n",
        "\n",
        "  # # HINT:\n",
        "  # You may find functions such as linalg.det(), linalg.inv, etc. of the numpy package useful\n",
        "  return x"
      ]
    },
    {
      "cell_type": "code",
      "execution_count": null,
      "metadata": {
        "colab": {
          "base_uri": "https://localhost:8080/"
        },
        "id": "Ege-eIAp-CTV",
        "outputId": "e0b1f844-b592-49a1-845a-c983898c9661"
      },
      "outputs": [
        {
          "name": "stdout",
          "output_type": "stream",
          "text": [
            "[11.  -2.5 -6. ]\n"
          ]
        }
      ],
      "source": [
        "# Test case for the get_result_by_inverse_matrix(A, b) function.\n",
        "\n",
        "data_A = np.array([[1, 2, 1], [1, -2, 2], [2, 12, -2]])\n",
        "data_b = np.array([0,4,4])\n",
        "\n",
        "test = get_result_by_inverse_matrix(data_A, data_b)\n",
        "results = [11, -2.5, -6]\n",
        "\n",
        "np.testing.assert_array_equal(test, results)"
      ]
    },
    {
      "cell_type": "markdown",
      "metadata": {
        "id": "eyAJANDCC08f"
      },
      "source": [
        "# Part 2: Gaussian elimination\n",
        "\n",
        "Gaussian elimination uses elementary row operations to transform the system to upper triangular form $Ux = y$.\n",
        "\n",
        "Elementary row operations include swapping rows and adding multiples of one rowto another.\n",
        "They won’t change the solution $x$, but will change the matrix $A$ and the right-hand side $b$.\n",
        "\n",
        "The upper triangular matrix, $𝑈$, is defined as\n",
        "\n",
        "\\begin{bmatrix}\n",
        "u_{11} & u_{12} & \\cdots & u_{1n}\\\\\n",
        "0 & u_{22} & \\cdots & u_{2n}\\\\\n",
        "\\vdots & \\vdots & \\ddots & \\vdots\\\\\n",
        "0 & \\cdots & 0 & u_{nn}\\\\\n",
        "\\end{bmatrix}\n"
      ]
    },
    {
      "cell_type": "markdown",
      "metadata": {
        "id": "fZXuDaxsPhJm"
      },
      "source": [
        "**Algorithm of Gaussian elimination**\n",
        "\n",
        "Let $A^{(1)}=A$ and $b^{(1)}=b$. Then for each k from 1 to $n-1$, compute a new matrix $A^{(k+1)}$ and right-hand side $b^{(k+1)}$ by the following procedure:\n",
        "\n",
        "\n",
        "1.   Define the row multipliers\n",
        "\n",
        "\\begin{align}\n",
        "m_{ij} = \\frac{a_{ik}^{(k)}}{a_{kk}^{(k)}}, i=k+1,\\cdot \\cdot \\cdot,n.\n",
        "\\end{align}\n",
        "2.   Use these to remove the unknown $x_k$ from equations $k + 1$ to $n$, leaving\n",
        "\n",
        "\\begin{align}\n",
        "a_{ij}^{(k+1)}=a_{ij}^{(k)}-m_{ik}a_{kj}^{(k)}, b_{i}^{(k+1)}=b_{i}^{(k)}-m_{ik}b_{k}^{(k)}, i,j=k+1,\\cdot \\cdot \\cdot, n.\n",
        "\\end{align}\n",
        "\n",
        "It is helpful to combine these matrices to form an Augmented matrix (matrix $𝑏$ is the fourth column). We will perform this row operations on the Augmented matrix. It takes care of both $𝐴$ and $𝑏$ matrixes at the same time.\n",
        "\n",
        "After generating the upper triangular matrix, we have to apply **backward substitution method**.\n",
        "For any $n \\times n$ upper triangular system, $Ux = b$, the solution is:\n",
        "\n",
        "\\begin{align}\n",
        "x_j = \\frac{b_j-\\sum_{k=j+1}^{n}u_{jk}x_k}{u_{jj}}, j = n, n-1, \\cdot\\cdot\\cdot, 1.\n",
        "\\end{align}\n",
        "\n",
        "Here we assumed that $det𝑈≠0$.\n"
      ]
    },
    {
      "cell_type": "code",
      "execution_count": null,
      "metadata": {
        "id": "Is0qfwhuFOXM"
      },
      "outputs": [],
      "source": [
        "# two loops\n",
        "# n is the dimension of A matrix\n",
        "# column wise [0,n]\n",
        "#     then row-wise [column+1,n]\n",
        "#         make elements 0\n",
        "#         multiplier uses matrix[col,col] element\n",
        "#         we do row operation\n",
        "\n",
        "# We got upper triangular matrix\n",
        "# back substitution"
      ]
    },
    {
      "cell_type": "code",
      "execution_count": 1,
      "metadata": {
        "id": "r0-WCKM1OZKC"
      },
      "outputs": [],
      "source": [
        "def get_result_gaussian_elimination(n, A):\n",
        "  # n is the number of unknowns\n",
        "  # A is the Augmented n x n+1 matrix. (numpy array)\n",
        "\n",
        "\n",
        "  # Making numpy array of n size and initializing\n",
        "  # to zero for storing solution vector\n",
        "  x = np.zeros(n)\n",
        "  for i in range(n):\n",
        "    if A[i][i] == 0.0:\n",
        "        print('Divide by zero found')\n",
        "    else:\n",
        "       for j in range(i + 1, n):\n",
        "          ratio = A[j][i] / A[i][i]\n",
        "          for k in range(n + 1):\n",
        "            A[j][k] = A[j][k] - ratio * A[i][k]\n",
        "\n",
        "  x[n - 1] = A[n - 1][n] / A[n - 1][n - 1]\n",
        "  for i in range(n - 2, -1, -1):\n",
        "    x[i] = A[i][n]\n",
        "    for j in range(n-1,i,-1): #forward Substitute for j(i + 1,1)\n",
        "\n",
        "        x[i] = x[i] - A[i][j] * x[j]\n",
        "    x[i] = x[i] / A[i][i]\n",
        "\n",
        "  # YOUR CODE HERE\n",
        "\n",
        "\n",
        "\n",
        "  # raise NotImplementedError()\n",
        "\n",
        "  # HINT:\n",
        "  # 1. Apply Gauss Elimination\n",
        "  # 2. Apply Back Substitution\n",
        "\n",
        "  return x"
      ]
    },
    {
      "cell_type": "code",
      "execution_count": 4,
      "metadata": {
        "id": "IjJuvkTBUifb"
      },
      "outputs": [],
      "source": [
        "# Test case for the get_result_gaussian_elimination(n, A) function.\n",
        "\n",
        "data_n = 3\n",
        "data_A = np.array([[1, 2, 1, 0], [1, -2, 2, 4], [2, 12, -2, 4]])\n",
        "\n",
        "test = get_result_gaussian_elimination(data_n, data_A)\n",
        "results = [11, -2.5, -6]\n",
        "\n",
        "np.testing.assert_array_equal(test, results)"
      ]
    },
    {
      "cell_type": "markdown",
      "metadata": {
        "id": "M3p-B1COVpnF"
      },
      "source": [
        "# Part 3: LU Decomposition\n",
        "\n",
        "We will transform the $n \\times n$ matrix $A$ into a product of two triangular matrix: one lower triangular $(L)$ and the other upper triangular $(U)$.\n",
        "\n",
        "\\begin{align}\n",
        "A = LU\n",
        "\\end{align}\n",
        "\n",
        "**Algorithm of LU decomposition:**\n",
        "\n",
        "\n",
        "1.   Initialize  $L$  to an identity matrix,  $I$  of dimension  $n×n$  and  $U=A$ .\n",
        "2.   For  $i=1,…,n$  do Step $3$\n",
        "3.   &nbsp;&nbsp; For  $j=i+1,…,n$  do Steps $4$-$5$\n",
        "4.  &nbsp;&nbsp;&nbsp;&nbsp;&nbsp;Set  $l_{ji}=u_{ji}/u_{ii}$\n",
        "5. &nbsp;&nbsp;&nbsp;&nbsp;&nbsp;Perform  $U_j=(U_j−l_{ji}U_i)$  (where  $U_i,U_j$  represent the  $i$  and  $j$  rows of the matrix  $U,$  respectively)"
      ]
    },
    {
      "cell_type": "markdown",
      "metadata": {
        "id": "7RhuPID0ohf7"
      },
      "source": [
        "*   We know, The linear system in matrix form is $𝐴𝑥=𝑏$.\n",
        "*   Using the decomposition, we get $𝐿𝑈𝑥=𝑏$.\n",
        "*    Now, let $𝑈𝑥=𝑦⟹𝐿𝑦=𝑏$.\n",
        "*   Since $𝐿$ is lower triangular, we solve $𝐿𝑦=𝑏$ to obtain $𝑦$ by forward substitution.\n",
        "*   Since $𝑈$ and $𝑦$ are known, we solve $𝑈𝑥=𝑦$ to obtain $𝑥$ by backward substitution."
      ]
    },
    {
      "cell_type": "code",
      "execution_count": null,
      "metadata": {
        "id": "8092-oCDnyfV"
      },
      "outputs": [],
      "source": [
        "def lu(A):\n",
        "\n",
        "  #Get the number of rows\n",
        "  n = A.shape[0]\n",
        "\n",
        "  U = A.copy()\n",
        "  L = np.eye(n, dtype=np.double)\n",
        "\n",
        "\n",
        "   # YOUR CODE HERE\n",
        "  # raise NotImplementedError()\n",
        "\n",
        "  # HINT:\n",
        "  for i in range(n):\n",
        "        for j in range(i + 1, n):\n",
        "            L[j][i] = U[j][i]  / U[i][i]\n",
        "            U[j] -= L[j] [i] * U[i]\n",
        "\n",
        "\n",
        "\n",
        "  #Loop over rows\n",
        "  # for i in range(n):\n",
        "    #Eliminate entries below i with row operations\n",
        "    #on U and reverse the row operations to\n",
        "    #manipulate L\n",
        "\n",
        "  return L, U\n",
        "\n",
        "\n",
        "\n",
        "def forward_substitution(L, b):\n",
        "\n",
        "  #Get number of rows\n",
        "  n = L.shape[0]\n",
        "\n",
        "  #Allocating space for the solution vector\n",
        "  y = np.zeros_like(b, dtype=np.double);\n",
        "\n",
        "\n",
        "  # YOUR CODE HERE\n",
        "  # raise NotImplementedError()\n",
        "  y = np.linalg.inv(L).dot(b)\n",
        "  # HINT:\n",
        "  #Perform the forward-substitution.\n",
        "  #Initialize  with the first row.\n",
        "  #Loop over rows in reverse (from the bottom  up),\n",
        "  #Start with the second to last row, because  the\n",
        "  #last row solve was completed in the last step.\n",
        "\n",
        "  return y\n",
        "\n",
        "\n",
        "\n",
        "def back_substitution(U, y):\n",
        "\n",
        "  #Number of rows\n",
        "  n = U.shape[0]\n",
        "\n",
        "  #Allocating space for the solution vector\n",
        "  x = np.zeros_like(y, dtype=np.double);\n",
        "\n",
        "  x = np.linalg.inv(U).dot(y)\n",
        "  # YOUR CODE HERE\n",
        "  # raise NotImplementedError()\n",
        "\n",
        "  # HINT:\n",
        "  #Perform the back-substitution.\n",
        "  #Initialize with the last row.\n",
        "  #Loop over rows in reverse (from the bottom up),\n",
        "  #Start with the second to last row, because the\n",
        "  #last row solve was completed in the last step.\n",
        "\n",
        "  return x\n",
        "\n",
        "\n",
        "\n",
        "def lu_solve(A, b):\n",
        "\n",
        "  L, U = lu(A)\n",
        "\n",
        "  y = forward_substitution(L, b)\n",
        "\n",
        "  return back_substitution(U, y)"
      ]
    },
    {
      "cell_type": "code",
      "execution_count": null,
      "metadata": {
        "id": "6VxxfL2LqKqL"
      },
      "outputs": [],
      "source": [
        "# Test case for the lu_solve(A, b) function.\n",
        "\n",
        "data_A = np.array([[1., 2., 1.], [1., -2., 2.], [2., 12., -2.]])\n",
        "data_b = np.array([0., 4., 4.])\n",
        "\n",
        "test = lu_solve(data_A, data_b)\n",
        "results = [11, -2.5, -6]\n",
        "\n",
        "np.testing.assert_array_equal(test, results)\n"
      ]
    }
  ],
  "metadata": {
    "colab": {
      "provenance": []
    },
    "kernelspec": {
      "display_name": "Python 3",
      "name": "python3"
    },
    "language_info": {
      "name": "python"
    }
  },
  "nbformat": 4,
  "nbformat_minor": 0
}
